{
 "cells": [
  {
   "cell_type": "markdown",
   "metadata": {},
   "source": [
    "<!-- ## IoT for Eco-Friendly Tourism - Summer School\n",
    "### Valencia, Spain - 2025 -->\n",
    "![alt text](remarkable.png)\n",
    "-------"
   ]
  },
  {
   "cell_type": "markdown",
   "metadata": {},
   "source": [
    "### ML-based model compression "
   ]
  },
  {
   "cell_type": "markdown",
   "metadata": {},
   "source": [
    "#### Libraries"
   ]
  },
  {
   "cell_type": "code",
   "execution_count": 8,
   "metadata": {},
   "outputs": [],
   "source": [
    "import os\n",
    "import numpy as np\n",
    "from numpy import array\n",
    "import matplotlib.pyplot as plt\n",
    "import seaborn as sn\n",
    "import pandas as pd\n",
    "\n",
    "## Tensorflow + Keras libraries\n",
    "import tensorflow as tf\n",
    "from tensorflow import keras\n",
    "from tensorflow.keras import Sequential\n",
    "from tensorflow.keras.models import *\n",
    "from tensorflow.keras.layers import *\n",
    "from tensorflow.keras.utils import to_categorical\n",
    "from tensorflow.keras.optimizers import SGD, Adam\n",
    "import tensorflow_model_optimization as tfmot\n",
    "from tensorflow_model_optimization.python.core.sparsity.keras import prune, pruning_callbacks, pruning_schedule\n",
    "from tensorflow_model_optimization.sparsity.keras import strip_pruning\n",
    "\n",
    "## Quantization\n",
    "from qkeras import *\n",
    "\n",
    "## Datasets\n",
    "from tensorflow.keras.datasets import cifar10\n",
    "from tensorflow.keras.datasets import cifar100\n",
    "from tensorflow.keras.datasets import mnist\n",
    "from tensorflow.keras.datasets import fashion_mnist\n",
    "\n",
    "from distillationClassKeras import *\n",
    "from sklearn.metrics import confusion_matrix, ConfusionMatrixDisplay"
   ]
  },
  {
   "cell_type": "markdown",
   "metadata": {},
   "source": [
    "#### Enable GPU "
   ]
  },
  {
   "cell_type": "code",
   "execution_count": 9,
   "metadata": {},
   "outputs": [
    {
     "name": "stdout",
     "output_type": "stream",
     "text": [
      "GPUs:  1\n"
     ]
    },
    {
     "name": "stderr",
     "output_type": "stream",
     "text": [
      "2025-03-27 00:24:30.739694: I tensorflow/stream_executor/platform/default/dso_loader.cc:49] Successfully opened dynamic library libcuda.so.1\n",
      "2025-03-27 00:24:31.214209: I tensorflow/stream_executor/cuda/cuda_gpu_executor.cc:941] successful NUMA node read from SysFS had negative value (-1), but there must be at least one NUMA node, so returning NUMA node zero\n",
      "2025-03-27 00:24:31.214356: I tensorflow/core/common_runtime/gpu/gpu_device.cc:1720] Found device 0 with properties: \n",
      "pciBusID: 0000:01:00.0 name: NVIDIA GeForce GTX 1650 with Max-Q Design computeCapability: 7.5\n",
      "coreClock: 1.155GHz coreCount: 14 deviceMemorySize: 3.81GiB deviceMemoryBandwidth: 149.04GiB/s\n",
      "2025-03-27 00:24:31.214387: I tensorflow/stream_executor/platform/default/dso_loader.cc:49] Successfully opened dynamic library libcudart.so.10.1\n",
      "2025-03-27 00:24:31.256759: I tensorflow/stream_executor/platform/default/dso_loader.cc:49] Successfully opened dynamic library libcublas.so.10\n",
      "2025-03-27 00:24:31.256854: I tensorflow/stream_executor/platform/default/dso_loader.cc:49] Successfully opened dynamic library libcublasLt.so.10\n",
      "2025-03-27 00:24:31.278687: I tensorflow/stream_executor/platform/default/dso_loader.cc:49] Successfully opened dynamic library libcufft.so.10\n",
      "2025-03-27 00:24:31.284380: I tensorflow/stream_executor/platform/default/dso_loader.cc:49] Successfully opened dynamic library libcurand.so.10\n",
      "2025-03-27 00:24:31.326556: I tensorflow/stream_executor/platform/default/dso_loader.cc:49] Successfully opened dynamic library libcusolver.so.10\n",
      "2025-03-27 00:24:31.331577: I tensorflow/stream_executor/platform/default/dso_loader.cc:49] Successfully opened dynamic library libcusparse.so.10\n",
      "2025-03-27 00:24:31.403784: I tensorflow/stream_executor/platform/default/dso_loader.cc:49] Successfully opened dynamic library libcudnn.so.7\n",
      "2025-03-27 00:24:31.403986: I tensorflow/stream_executor/cuda/cuda_gpu_executor.cc:941] successful NUMA node read from SysFS had negative value (-1), but there must be at least one NUMA node, so returning NUMA node zero\n",
      "2025-03-27 00:24:31.404140: I tensorflow/stream_executor/cuda/cuda_gpu_executor.cc:941] successful NUMA node read from SysFS had negative value (-1), but there must be at least one NUMA node, so returning NUMA node zero\n",
      "2025-03-27 00:24:31.404209: I tensorflow/core/common_runtime/gpu/gpu_device.cc:1862] Adding visible gpu devices: 0\n"
     ]
    }
   ],
   "source": [
    "# GPU\n",
    "os.environ['TF_XLA_FLAGS'] = '--tf_xla_enable_xla_devices'\n",
    "\n",
    "import tensorflow as tf\n",
    "print(\"GPUs: \", len(tf.config.experimental.list_physical_devices('GPU')))\n",
    "\n",
    "import tensorflow as tf\n",
    "gpus = tf.config.experimental.list_physical_devices('GPU')\n",
    "if gpus:\n",
    "    try:\n",
    "        for gpu in gpus:\n",
    "            tf.config.experimental.set_memory_growth(gpu, True)\n",
    "\n",
    "    except RuntimeError as e:\n",
    "        print(e)"
   ]
  },
  {
   "cell_type": "markdown",
   "metadata": {},
   "source": [
    "#### Load dataset"
   ]
  },
  {
   "cell_type": "code",
   "execution_count": 10,
   "metadata": {},
   "outputs": [],
   "source": [
    "# Cargar dataset MNIST\n",
    "(x_train, y_train), (x_test, y_test) = keras.datasets.mnist.load_data()\n",
    "x_train, x_test = x_train / 255.0, x_test / 255.0            # Normalización"
   ]
  },
  {
   "cell_type": "markdown",
   "metadata": {},
   "source": [
    "##### Label selection for the binary classification\n",
    "\n",
    "Filter images that only contain numbers 1 and 9\n"
   ]
  },
  {
   "cell_type": "code",
   "execution_count": 11,
   "metadata": {},
   "outputs": [],
   "source": [
    "train_filter = np.where((y_train == 1) | (y_train == 9))\n",
    "test_filter = np.where((y_test == 1) | (y_test == 9))\n",
    "\n",
    "x_train = x_train[train_filter]\n",
    "y_train = y_train[train_filter]\n",
    "x_test = x_test[test_filter]\n",
    "y_test = y_test[test_filter]"
   ]
  },
  {
   "cell_type": "code",
   "execution_count": null,
   "metadata": {},
   "outputs": [],
   "source": [
    "# Labels to binary format\n",
    "y_train_binary = np.where(y_train == 1, 0, 1)  # 1 -> 0, 9 -> 1\n",
    "y_test_binary = np.where(y_test == 1, 0, 1)  # 1 -> 0, 9 -> 1"
   ]
  },
  {
   "cell_type": "code",
   "execution_count": 13,
   "metadata": {},
   "outputs": [],
   "source": [
    "# One-hot Encoding\n",
    "y_train_binary = to_categorical(y_train_binary, num_classes=2, dtype=int)\n",
    "y_test_binary = to_categorical(y_test_binary, num_classes=2, dtype=int)"
   ]
  },
  {
   "cell_type": "markdown",
   "metadata": {},
   "source": [
    "### Model definition\n",
    "\n",
    "The architecture is defined in a quantized manner"
   ]
  },
  {
   "cell_type": "code",
   "execution_count": 7,
   "metadata": {},
   "outputs": [],
   "source": [
    "\n",
    "def build_model():\n",
    "    # Fixed point precision\n",
    "    kernelQ = \"quantized_bits(8,3,alpha=1)\"\n",
    "    biasQ = \"quantized_bits(8, 3,alpha=1)\"\n",
    "    activationQ = 'quantized_bits(16,6)'\n",
    "\n",
    "    modelQ = Sequential(\n",
    "                [   \n",
    "                    \n",
    "                    QDense(5, name='fc1_input',\n",
    "                            input_shape=(28 * 28,),\n",
    "                            kernel_quantizer= kernelQ, bias_quantizer= biasQ,\n",
    "                            kernel_initializer='lecun_uniform'),\n",
    "                    QActivation(activation= activationQ ,  name='relu_input'),\n",
    "\n",
    "                    QDense(7, name='fc1',\n",
    "                            kernel_quantizer= kernelQ, bias_quantizer= biasQ,\n",
    "                            kernel_initializer='lecun_uniform'),\n",
    "                    QActivation(activation= activationQ ,  name='relu1'),\n",
    "\n",
    "                    QDense(10, name='fc2',\n",
    "                            kernel_quantizer= kernelQ, bias_quantizer= biasQ,\n",
    "                            kernel_initializer='lecun_uniform'),\n",
    "                    QActivation(activation= activationQ ,  name='relu2'),\n",
    "                    \n",
    "                    QDense(2, name='output',\n",
    "                            kernel_quantizer= kernelQ, bias_quantizer= biasQ,\n",
    "                            kernel_initializer='lecun_uniform'),\n",
    "                    Activation(activation='sigmoid', name='sigmoid')\n",
    "                \n",
    "                ],\n",
    "\n",
    "            )\n",
    "    return modelQ\n",
    "\n"
   ]
  },
  {
   "cell_type": "code",
   "execution_count": 8,
   "metadata": {},
   "outputs": [],
   "source": [
    "x_train = x_train.reshape(x_train.shape[0], 28 * 28)\n",
    "x_test = x_test.reshape(x_test.shape[0], 28 * 28)"
   ]
  },
  {
   "cell_type": "markdown",
   "metadata": {},
   "source": [
    "### Build model"
   ]
  },
  {
   "cell_type": "code",
   "execution_count": 9,
   "metadata": {},
   "outputs": [
    {
     "name": "stderr",
     "output_type": "stream",
     "text": [
      "2025-03-25 17:06:03.801170: I tensorflow/core/platform/cpu_feature_guard.cc:142] This TensorFlow binary is optimized with oneAPI Deep Neural Network Library (oneDNN) to use the following CPU instructions in performance-critical operations:  SSE4.1 SSE4.2 AVX AVX2 AVX512F FMA\n",
      "To enable them in other operations, rebuild TensorFlow with the appropriate compiler flags.\n",
      "2025-03-25 17:06:03.824918: I tensorflow/core/platform/profile_utils/cpu_utils.cc:112] CPU Frequency: 2304000000 Hz\n",
      "2025-03-25 17:06:03.826271: I tensorflow/compiler/xla/service/service.cc:168] XLA service 0x26fcdfc0 initialized for platform Host (this does not guarantee that XLA will be used). Devices:\n",
      "2025-03-25 17:06:03.826301: I tensorflow/compiler/xla/service/service.cc:176]   StreamExecutor device (0): Host, Default Version\n"
     ]
    }
   ],
   "source": [
    "modelQ = build_model()"
   ]
  },
  {
   "cell_type": "code",
   "execution_count": 10,
   "metadata": {},
   "outputs": [
    {
     "name": "stdout",
     "output_type": "stream",
     "text": [
      "Model: \"sequential\"\n",
      "_________________________________________________________________\n",
      "Layer (type)                 Output Shape              Param #   \n",
      "=================================================================\n",
      "fc1_input (QDense)           (None, 5)                 3925      \n",
      "_________________________________________________________________\n",
      "relu_input (QActivation)     (None, 5)                 0         \n",
      "_________________________________________________________________\n",
      "fc1 (QDense)                 (None, 7)                 42        \n",
      "_________________________________________________________________\n",
      "relu1 (QActivation)          (None, 7)                 0         \n",
      "_________________________________________________________________\n",
      "fc2 (QDense)                 (None, 10)                80        \n",
      "_________________________________________________________________\n",
      "relu2 (QActivation)          (None, 10)                0         \n",
      "_________________________________________________________________\n",
      "output (QDense)              (None, 2)                 22        \n",
      "_________________________________________________________________\n",
      "sigmoid (Activation)         (None, 2)                 0         \n",
      "=================================================================\n",
      "Total params: 4,069\n",
      "Trainable params: 4,069\n",
      "Non-trainable params: 0\n",
      "_________________________________________________________________\n"
     ]
    }
   ],
   "source": [
    "modelQ.summary()"
   ]
  },
  {
   "cell_type": "markdown",
   "metadata": {},
   "source": [
    "### Pruning strategy"
   ]
  },
  {
   "cell_type": "code",
   "execution_count": 11,
   "metadata": {},
   "outputs": [
    {
     "name": "stderr",
     "output_type": "stream",
     "text": [
      "/tools/anaconda3/envs/neuralEnv/lib/python3.9/site-packages/tensorflow/python/keras/engine/base_layer.py:2281: UserWarning: `layer.add_variable` is deprecated and will be removed in a future version. Please use `layer.add_weight` method instead.\n",
      "  warnings.warn('`layer.add_variable` is deprecated and '\n"
     ]
    }
   ],
   "source": [
    "final_sparsity = 0.2\n",
    "\n",
    "pruning_params = {\n",
    "                'pruning_schedule': tfmot.sparsity.keras.PolynomialDecay(\n",
    "                initial_sparsity=0, final_sparsity=final_sparsity, begin_step=0, end_step=3000\n",
    "                )\n",
    "            }\n",
    "\n",
    "model_QPKD = tfmot.sparsity.keras.prune_low_magnitude(modelQ, **pruning_params)"
   ]
  },
  {
   "cell_type": "code",
   "execution_count": 12,
   "metadata": {},
   "outputs": [
    {
     "name": "stdout",
     "output_type": "stream",
     "text": [
      "Epoch 1/32\n",
      "WARNING:tensorflow:AutoGraph could not transform <function Pruning.conditional_mask_update.<locals>.maybe_update_masks at 0x7fcffc977f70> and will run it as-is.\n",
      "Please report this to the TensorFlow team. When filing the bug, set the verbosity to 10 (on Linux, `export AUTOGRAPH_VERBOSITY=10`) and attach the full output.\n",
      "Cause: module 'gast' has no attribute 'Index'\n",
      "To silence this warning, decorate the function with @tf.autograph.experimental.do_not_convert\n",
      "WARNING: AutoGraph could not transform <function Pruning.conditional_mask_update.<locals>.maybe_update_masks at 0x7fcffc977f70> and will run it as-is.\n",
      "Please report this to the TensorFlow team. When filing the bug, set the verbosity to 10 (on Linux, `export AUTOGRAPH_VERBOSITY=10`) and attach the full output.\n",
      "Cause: module 'gast' has no attribute 'Index'\n",
      "To silence this warning, decorate the function with @tf.autograph.experimental.do_not_convert\n",
      "WARNING:tensorflow:AutoGraph could not transform <bound method Pruning._maybe_update_block_mask of <tensorflow_model_optimization.python.core.sparsity.keras.pruning_impl.Pruning object at 0x7fcffc65f7c0>> and will run it as-is.\n",
      "Please report this to the TensorFlow team. When filing the bug, set the verbosity to 10 (on Linux, `export AUTOGRAPH_VERBOSITY=10`) and attach the full output.\n",
      "Cause: module 'gast' has no attribute 'Index'\n",
      "To silence this warning, decorate the function with @tf.autograph.experimental.do_not_convert\n",
      "WARNING: AutoGraph could not transform <bound method Pruning._maybe_update_block_mask of <tensorflow_model_optimization.python.core.sparsity.keras.pruning_impl.Pruning object at 0x7fcffc65f7c0>> and will run it as-is.\n",
      "Please report this to the TensorFlow team. When filing the bug, set the verbosity to 10 (on Linux, `export AUTOGRAPH_VERBOSITY=10`) and attach the full output.\n",
      "Cause: module 'gast' has no attribute 'Index'\n",
      "To silence this warning, decorate the function with @tf.autograph.experimental.do_not_convert\n",
      "WARNING:tensorflow:AutoGraph could not transform <function Pruning.conditional_mask_update.<locals>.maybe_update_masks at 0x7fcffc8b3f70> and will run it as-is.\n",
      "Please report this to the TensorFlow team. When filing the bug, set the verbosity to 10 (on Linux, `export AUTOGRAPH_VERBOSITY=10`) and attach the full output.\n",
      "Cause: module 'gast' has no attribute 'Index'\n",
      "To silence this warning, decorate the function with @tf.autograph.experimental.do_not_convert\n",
      "WARNING: AutoGraph could not transform <function Pruning.conditional_mask_update.<locals>.maybe_update_masks at 0x7fcffc8b3f70> and will run it as-is.\n",
      "Please report this to the TensorFlow team. When filing the bug, set the verbosity to 10 (on Linux, `export AUTOGRAPH_VERBOSITY=10`) and attach the full output.\n",
      "Cause: module 'gast' has no attribute 'Index'\n",
      "To silence this warning, decorate the function with @tf.autograph.experimental.do_not_convert\n"
     ]
    },
    {
     "name": "stderr",
     "output_type": "stream",
     "text": [
      "2025-03-25 17:06:05.067810: I tensorflow/compiler/mlir/mlir_graph_optimization_pass.cc:116] None of the MLIR optimization passes are enabled (registered 2)\n"
     ]
    },
    {
     "name": "stdout",
     "output_type": "stream",
     "text": [
      "WARNING:tensorflow:AutoGraph could not transform <function Pruning.conditional_mask_update.<locals>.maybe_update_masks at 0x7fcffc8b3ee0> and will run it as-is.\n",
      "Please report this to the TensorFlow team. When filing the bug, set the verbosity to 10 (on Linux, `export AUTOGRAPH_VERBOSITY=10`) and attach the full output.\n",
      "Cause: module 'gast' has no attribute 'Index'\n",
      "To silence this warning, decorate the function with @tf.autograph.experimental.do_not_convert\n",
      "WARNING: AutoGraph could not transform <function Pruning.conditional_mask_update.<locals>.maybe_update_masks at 0x7fcffc8b3ee0> and will run it as-is.\n",
      "Please report this to the TensorFlow team. When filing the bug, set the verbosity to 10 (on Linux, `export AUTOGRAPH_VERBOSITY=10`) and attach the full output.\n",
      "Cause: module 'gast' has no attribute 'Index'\n",
      "To silence this warning, decorate the function with @tf.autograph.experimental.do_not_convert\n",
      "WARNING:tensorflow:AutoGraph could not transform <function Pruning.conditional_mask_update.<locals>.maybe_update_masks at 0x7fcffc8b3e50> and will run it as-is.\n",
      "Please report this to the TensorFlow team. When filing the bug, set the verbosity to 10 (on Linux, `export AUTOGRAPH_VERBOSITY=10`) and attach the full output.\n",
      "Cause: module 'gast' has no attribute 'Index'\n",
      "To silence this warning, decorate the function with @tf.autograph.experimental.do_not_convert\n",
      "WARNING: AutoGraph could not transform <function Pruning.conditional_mask_update.<locals>.maybe_update_masks at 0x7fcffc8b3e50> and will run it as-is.\n",
      "Please report this to the TensorFlow team. When filing the bug, set the verbosity to 10 (on Linux, `export AUTOGRAPH_VERBOSITY=10`) and attach the full output.\n",
      "Cause: module 'gast' has no attribute 'Index'\n",
      "To silence this warning, decorate the function with @tf.autograph.experimental.do_not_convert\n",
      "WARNING:tensorflow:AutoGraph could not transform <function Pruning.conditional_mask_update.<locals>.maybe_update_masks at 0x7fcffc826280> and will run it as-is.\n",
      "Please report this to the TensorFlow team. When filing the bug, set the verbosity to 10 (on Linux, `export AUTOGRAPH_VERBOSITY=10`) and attach the full output.\n",
      "Cause: module 'gast' has no attribute 'Index'\n",
      "To silence this warning, decorate the function with @tf.autograph.experimental.do_not_convert\n",
      "WARNING: AutoGraph could not transform <function Pruning.conditional_mask_update.<locals>.maybe_update_masks at 0x7fcffc826280> and will run it as-is.\n",
      "Please report this to the TensorFlow team. When filing the bug, set the verbosity to 10 (on Linux, `export AUTOGRAPH_VERBOSITY=10`) and attach the full output.\n",
      "Cause: module 'gast' has no attribute 'Index'\n",
      "To silence this warning, decorate the function with @tf.autograph.experimental.do_not_convert\n",
      "WARNING:tensorflow:AutoGraph could not transform <function Pruning.conditional_mask_update.<locals>.maybe_update_masks at 0x7fcffc8b3d30> and will run it as-is.\n",
      "Please report this to the TensorFlow team. When filing the bug, set the verbosity to 10 (on Linux, `export AUTOGRAPH_VERBOSITY=10`) and attach the full output.\n",
      "Cause: module 'gast' has no attribute 'Index'\n",
      "To silence this warning, decorate the function with @tf.autograph.experimental.do_not_convert\n",
      "WARNING: AutoGraph could not transform <function Pruning.conditional_mask_update.<locals>.maybe_update_masks at 0x7fcffc8b3d30> and will run it as-is.\n",
      "Please report this to the TensorFlow team. When filing the bug, set the verbosity to 10 (on Linux, `export AUTOGRAPH_VERBOSITY=10`) and attach the full output.\n",
      "Cause: module 'gast' has no attribute 'Index'\n",
      "To silence this warning, decorate the function with @tf.autograph.experimental.do_not_convert\n",
      "WARNING:tensorflow:AutoGraph could not transform <function Pruning.conditional_mask_update.<locals>.maybe_update_masks at 0x7fcffc8b3820> and will run it as-is.\n",
      "Please report this to the TensorFlow team. When filing the bug, set the verbosity to 10 (on Linux, `export AUTOGRAPH_VERBOSITY=10`) and attach the full output.\n",
      "Cause: module 'gast' has no attribute 'Index'\n",
      "To silence this warning, decorate the function with @tf.autograph.experimental.do_not_convert\n",
      "WARNING: AutoGraph could not transform <function Pruning.conditional_mask_update.<locals>.maybe_update_masks at 0x7fcffc8b3820> and will run it as-is.\n",
      "Please report this to the TensorFlow team. When filing the bug, set the verbosity to 10 (on Linux, `export AUTOGRAPH_VERBOSITY=10`) and attach the full output.\n",
      "Cause: module 'gast' has no attribute 'Index'\n",
      "To silence this warning, decorate the function with @tf.autograph.experimental.do_not_convert\n",
      "WARNING:tensorflow:AutoGraph could not transform <function Pruning.conditional_mask_update.<locals>.maybe_update_masks at 0x7fcffc83f700> and will run it as-is.\n",
      "Please report this to the TensorFlow team. When filing the bug, set the verbosity to 10 (on Linux, `export AUTOGRAPH_VERBOSITY=10`) and attach the full output.\n",
      "Cause: module 'gast' has no attribute 'Index'\n",
      "To silence this warning, decorate the function with @tf.autograph.experimental.do_not_convert\n",
      "WARNING: AutoGraph could not transform <function Pruning.conditional_mask_update.<locals>.maybe_update_masks at 0x7fcffc83f700> and will run it as-is.\n",
      "Please report this to the TensorFlow team. When filing the bug, set the verbosity to 10 (on Linux, `export AUTOGRAPH_VERBOSITY=10`) and attach the full output.\n",
      "Cause: module 'gast' has no attribute 'Index'\n",
      "To silence this warning, decorate the function with @tf.autograph.experimental.do_not_convert\n",
      "WARNING:tensorflow:AutoGraph could not transform <function Pruning.conditional_mask_update.<locals>.maybe_update_masks at 0x7fcffc8b3700> and will run it as-is.\n",
      "Please report this to the TensorFlow team. When filing the bug, set the verbosity to 10 (on Linux, `export AUTOGRAPH_VERBOSITY=10`) and attach the full output.\n",
      "Cause: module 'gast' has no attribute 'Index'\n",
      "To silence this warning, decorate the function with @tf.autograph.experimental.do_not_convert\n",
      "WARNING: AutoGraph could not transform <function Pruning.conditional_mask_update.<locals>.maybe_update_masks at 0x7fcffc8b3700> and will run it as-is.\n",
      "Please report this to the TensorFlow team. When filing the bug, set the verbosity to 10 (on Linux, `export AUTOGRAPH_VERBOSITY=10`) and attach the full output.\n",
      "Cause: module 'gast' has no attribute 'Index'\n",
      "To silence this warning, decorate the function with @tf.autograph.experimental.do_not_convert\n",
      "WARNING:tensorflow:AutoGraph could not transform <function Pruning.conditional_mask_update.<locals>.maybe_update_masks at 0x7fcffc3dbe50> and will run it as-is.\n",
      "Please report this to the TensorFlow team. When filing the bug, set the verbosity to 10 (on Linux, `export AUTOGRAPH_VERBOSITY=10`) and attach the full output.\n",
      "Cause: module 'gast' has no attribute 'Index'\n",
      "To silence this warning, decorate the function with @tf.autograph.experimental.do_not_convert\n",
      "WARNING: AutoGraph could not transform <function Pruning.conditional_mask_update.<locals>.maybe_update_masks at 0x7fcffc3dbe50> and will run it as-is.\n",
      "Please report this to the TensorFlow team. When filing the bug, set the verbosity to 10 (on Linux, `export AUTOGRAPH_VERBOSITY=10`) and attach the full output.\n",
      "Cause: module 'gast' has no attribute 'Index'\n",
      "To silence this warning, decorate the function with @tf.autograph.experimental.do_not_convert\n",
      "WARNING:tensorflow:AutoGraph could not transform <function Pruning.conditional_mask_update.<locals>.maybe_update_masks at 0x7fcffc4f1ee0> and will run it as-is.\n",
      "Please report this to the TensorFlow team. When filing the bug, set the verbosity to 10 (on Linux, `export AUTOGRAPH_VERBOSITY=10`) and attach the full output.\n",
      "Cause: module 'gast' has no attribute 'Index'\n",
      "To silence this warning, decorate the function with @tf.autograph.experimental.do_not_convert\n",
      "WARNING: AutoGraph could not transform <function Pruning.conditional_mask_update.<locals>.maybe_update_masks at 0x7fcffc4f1ee0> and will run it as-is.\n",
      "Please report this to the TensorFlow team. When filing the bug, set the verbosity to 10 (on Linux, `export AUTOGRAPH_VERBOSITY=10`) and attach the full output.\n",
      "Cause: module 'gast' has no attribute 'Index'\n",
      "To silence this warning, decorate the function with @tf.autograph.experimental.do_not_convert\n",
      "WARNING:tensorflow:AutoGraph could not transform <function Pruning.conditional_mask_update.<locals>.maybe_update_masks at 0x7fcffc83f700> and will run it as-is.\n",
      "Please report this to the TensorFlow team. When filing the bug, set the verbosity to 10 (on Linux, `export AUTOGRAPH_VERBOSITY=10`) and attach the full output.\n",
      "Cause: module 'gast' has no attribute 'Index'\n",
      "To silence this warning, decorate the function with @tf.autograph.experimental.do_not_convert\n",
      "WARNING: AutoGraph could not transform <function Pruning.conditional_mask_update.<locals>.maybe_update_masks at 0x7fcffc83f700> and will run it as-is.\n",
      "Please report this to the TensorFlow team. When filing the bug, set the verbosity to 10 (on Linux, `export AUTOGRAPH_VERBOSITY=10`) and attach the full output.\n",
      "Cause: module 'gast' has no attribute 'Index'\n",
      "To silence this warning, decorate the function with @tf.autograph.experimental.do_not_convert\n",
      "WARNING:tensorflow:AutoGraph could not transform <function Pruning.conditional_mask_update.<locals>.maybe_update_masks at 0x7fcfbafbd3a0> and will run it as-is.\n",
      "Please report this to the TensorFlow team. When filing the bug, set the verbosity to 10 (on Linux, `export AUTOGRAPH_VERBOSITY=10`) and attach the full output.\n",
      "Cause: module 'gast' has no attribute 'Index'\n",
      "To silence this warning, decorate the function with @tf.autograph.experimental.do_not_convert\n",
      "WARNING: AutoGraph could not transform <function Pruning.conditional_mask_update.<locals>.maybe_update_masks at 0x7fcfbafbd3a0> and will run it as-is.\n",
      "Please report this to the TensorFlow team. When filing the bug, set the verbosity to 10 (on Linux, `export AUTOGRAPH_VERBOSITY=10`) and attach the full output.\n",
      "Cause: module 'gast' has no attribute 'Index'\n",
      "To silence this warning, decorate the function with @tf.autograph.experimental.do_not_convert\n",
      "WARNING:tensorflow:AutoGraph could not transform <function Pruning.conditional_mask_update.<locals>.maybe_update_masks at 0x7fcffc83f700> and will run it as-is.\n",
      "Please report this to the TensorFlow team. When filing the bug, set the verbosity to 10 (on Linux, `export AUTOGRAPH_VERBOSITY=10`) and attach the full output.\n",
      "Cause: module 'gast' has no attribute 'Index'\n",
      "To silence this warning, decorate the function with @tf.autograph.experimental.do_not_convert\n",
      "WARNING: AutoGraph could not transform <function Pruning.conditional_mask_update.<locals>.maybe_update_masks at 0x7fcffc83f700> and will run it as-is.\n",
      "Please report this to the TensorFlow team. When filing the bug, set the verbosity to 10 (on Linux, `export AUTOGRAPH_VERBOSITY=10`) and attach the full output.\n",
      "Cause: module 'gast' has no attribute 'Index'\n",
      "To silence this warning, decorate the function with @tf.autograph.experimental.do_not_convert\n",
      "WARNING:tensorflow:AutoGraph could not transform <function Pruning.conditional_mask_update.<locals>.maybe_update_masks at 0x7fcffc4f1ee0> and will run it as-is.\n",
      "Please report this to the TensorFlow team. When filing the bug, set the verbosity to 10 (on Linux, `export AUTOGRAPH_VERBOSITY=10`) and attach the full output.\n",
      "Cause: module 'gast' has no attribute 'Index'\n",
      "To silence this warning, decorate the function with @tf.autograph.experimental.do_not_convert\n",
      "WARNING: AutoGraph could not transform <function Pruning.conditional_mask_update.<locals>.maybe_update_masks at 0x7fcffc4f1ee0> and will run it as-is.\n",
      "Please report this to the TensorFlow team. When filing the bug, set the verbosity to 10 (on Linux, `export AUTOGRAPH_VERBOSITY=10`) and attach the full output.\n",
      "Cause: module 'gast' has no attribute 'Index'\n",
      "To silence this warning, decorate the function with @tf.autograph.experimental.do_not_convert\n",
      "WARNING:tensorflow:AutoGraph could not transform <function Pruning.conditional_mask_update.<locals>.maybe_update_masks at 0x7fcfbaed14c0> and will run it as-is.\n",
      "Please report this to the TensorFlow team. When filing the bug, set the verbosity to 10 (on Linux, `export AUTOGRAPH_VERBOSITY=10`) and attach the full output.\n",
      "Cause: module 'gast' has no attribute 'Index'\n",
      "To silence this warning, decorate the function with @tf.autograph.experimental.do_not_convert\n",
      "WARNING: AutoGraph could not transform <function Pruning.conditional_mask_update.<locals>.maybe_update_masks at 0x7fcfbaed14c0> and will run it as-is.\n",
      "Please report this to the TensorFlow team. When filing the bug, set the verbosity to 10 (on Linux, `export AUTOGRAPH_VERBOSITY=10`) and attach the full output.\n",
      "Cause: module 'gast' has no attribute 'Index'\n",
      "To silence this warning, decorate the function with @tf.autograph.experimental.do_not_convert\n",
      "100/100 [==============================] - 2s 5ms/step - loss: 0.6646 - accuracy: 0.6191 - val_loss: 0.6497 - val_accuracy: 0.6567\n",
      "Epoch 2/32\n",
      "100/100 [==============================] - 0s 1ms/step - loss: 0.6403 - accuracy: 0.6792 - val_loss: 0.6257 - val_accuracy: 0.7043\n",
      "Epoch 3/32\n",
      "100/100 [==============================] - 0s 1ms/step - loss: 0.6178 - accuracy: 0.7199 - val_loss: 0.5914 - val_accuracy: 0.7854\n",
      "Epoch 4/32\n",
      "100/100 [==============================] - 0s 1ms/step - loss: 0.5843 - accuracy: 0.7988 - val_loss: 0.5609 - val_accuracy: 0.8354\n",
      "Epoch 5/32\n",
      "100/100 [==============================] - 0s 1ms/step - loss: 0.5580 - accuracy: 0.8295 - val_loss: 0.5411 - val_accuracy: 0.8470\n",
      "Epoch 6/32\n",
      "100/100 [==============================] - 0s 1ms/step - loss: 0.5365 - accuracy: 0.8390 - val_loss: 0.5107 - val_accuracy: 0.8927\n",
      "Epoch 7/32\n",
      "100/100 [==============================] - 0s 1ms/step - loss: 0.5030 - accuracy: 0.8929 - val_loss: 0.4715 - val_accuracy: 0.9207\n",
      "Epoch 8/32\n",
      "100/100 [==============================] - 0s 1ms/step - loss: 0.4658 - accuracy: 0.9181 - val_loss: 0.4441 - val_accuracy: 0.9431\n",
      "Epoch 9/32\n",
      "100/100 [==============================] - 0s 1ms/step - loss: 0.4452 - accuracy: 0.9349 - val_loss: 0.4108 - val_accuracy: 0.9501\n",
      "Epoch 10/32\n",
      "100/100 [==============================] - 0s 1ms/step - loss: 0.4016 - accuracy: 0.9464 - val_loss: 0.3704 - val_accuracy: 0.9590\n",
      "Epoch 11/32\n",
      "100/100 [==============================] - 0s 1ms/step - loss: 0.3735 - accuracy: 0.9483 - val_loss: 0.3487 - val_accuracy: 0.9613\n",
      "Epoch 12/32\n",
      "100/100 [==============================] - 0s 1ms/step - loss: 0.3539 - accuracy: 0.9514 - val_loss: 0.3321 - val_accuracy: 0.9655\n",
      "Epoch 13/32\n",
      "100/100 [==============================] - 0s 1ms/step - loss: 0.3353 - accuracy: 0.9550 - val_loss: 0.3019 - val_accuracy: 0.9701\n",
      "Epoch 14/32\n",
      "100/100 [==============================] - 0s 1ms/step - loss: 0.3068 - accuracy: 0.9627 - val_loss: 0.2855 - val_accuracy: 0.9767\n",
      "Epoch 15/32\n",
      "100/100 [==============================] - 0s 1ms/step - loss: 0.2871 - accuracy: 0.9679 - val_loss: 0.2476 - val_accuracy: 0.9823\n",
      "Epoch 16/32\n",
      "100/100 [==============================] - 0s 1ms/step - loss: 0.2508 - accuracy: 0.9788 - val_loss: 0.2304 - val_accuracy: 0.9837\n",
      "Epoch 17/32\n",
      "100/100 [==============================] - 0s 1ms/step - loss: 0.2348 - accuracy: 0.9771 - val_loss: 0.2078 - val_accuracy: 0.9879\n",
      "Epoch 18/32\n",
      "100/100 [==============================] - 0s 1ms/step - loss: 0.2156 - accuracy: 0.9807 - val_loss: 0.1935 - val_accuracy: 0.9902\n",
      "Epoch 19/32\n",
      "100/100 [==============================] - 0s 1ms/step - loss: 0.1986 - accuracy: 0.9826 - val_loss: 0.1822 - val_accuracy: 0.9907\n",
      "Epoch 20/32\n",
      "100/100 [==============================] - 0s 1ms/step - loss: 0.1879 - accuracy: 0.9835 - val_loss: 0.1711 - val_accuracy: 0.9921\n",
      "Epoch 21/32\n",
      "100/100 [==============================] - 0s 1ms/step - loss: 0.1726 - accuracy: 0.9868 - val_loss: 0.1621 - val_accuracy: 0.9921\n",
      "Epoch 22/32\n",
      "100/100 [==============================] - 0s 1ms/step - loss: 0.1661 - accuracy: 0.9871 - val_loss: 0.1541 - val_accuracy: 0.9925\n",
      "Epoch 23/32\n",
      "100/100 [==============================] - 0s 1ms/step - loss: 0.1570 - accuracy: 0.9854 - val_loss: 0.1385 - val_accuracy: 0.9925\n",
      "Epoch 24/32\n",
      "100/100 [==============================] - 0s 1ms/step - loss: 0.1450 - accuracy: 0.9862 - val_loss: 0.1309 - val_accuracy: 0.9930\n",
      "Epoch 25/32\n",
      "100/100 [==============================] - 0s 1ms/step - loss: 0.1394 - accuracy: 0.9863 - val_loss: 0.1257 - val_accuracy: 0.9930\n",
      "Epoch 26/32\n",
      "100/100 [==============================] - 0s 1ms/step - loss: 0.1330 - accuracy: 0.9862 - val_loss: 0.1172 - val_accuracy: 0.9921\n",
      "Epoch 27/32\n",
      "100/100 [==============================] - 0s 1ms/step - loss: 0.1227 - accuracy: 0.9878 - val_loss: 0.1137 - val_accuracy: 0.9930\n",
      "Epoch 28/32\n",
      "100/100 [==============================] - 0s 1ms/step - loss: 0.1206 - accuracy: 0.9877 - val_loss: 0.1085 - val_accuracy: 0.9925\n",
      "Epoch 29/32\n",
      "100/100 [==============================] - 0s 1ms/step - loss: 0.1143 - accuracy: 0.9889 - val_loss: 0.1058 - val_accuracy: 0.9925\n",
      "Epoch 30/32\n",
      "100/100 [==============================] - 0s 1ms/step - loss: 0.1093 - accuracy: 0.9893 - val_loss: 0.0999 - val_accuracy: 0.9925\n",
      "Epoch 31/32\n",
      "100/100 [==============================] - 0s 1ms/step - loss: 0.1069 - accuracy: 0.9884 - val_loss: 0.0967 - val_accuracy: 0.9921\n",
      "Epoch 32/32\n",
      "100/100 [==============================] - 0s 1ms/step - loss: 0.1036 - accuracy: 0.9883 - val_loss: 0.0946 - val_accuracy: 0.9925\n"
     ]
    }
   ],
   "source": [
    "lr = 0.00001\n",
    "op = Adam(lr)\n",
    "loss = \"categorical_crossentropy\"\n",
    "metrics = [\"accuracy\"]\n",
    "epochs=32\n",
    "batch_size=128\n",
    "\n",
    "model_QPKD.compile(optimizer=op, loss=loss, metrics=metrics)\n",
    "h = model_QPKD.fit(x_train, y_train_binary, epochs=epochs, batch_size=batch_size, validation_data=(x_test, y_test_binary),callbacks = [tfmot.sparsity.keras.UpdatePruningStep()])"
   ]
  },
  {
   "cell_type": "code",
   "execution_count": 13,
   "metadata": {},
   "outputs": [
    {
     "data": {
      "image/png": "[encoded data removed]",
      "text/plain": [
       "<Figure size 1500x300 with 1 Axes>"
      ]
     },
     "metadata": {},
     "output_type": "display_data"
    }
   ],
   "source": [
    "# Plot accuracy over epochs\n",
    "plt.figure(figsize=(15,3))\n",
    "plt.plot(h.history['accuracy'], label='Train Accuracy')\n",
    "plt.plot(h.history['val_accuracy'], label='Validation Accuracy')\n",
    "plt.xlabel('Epochs')\n",
    "plt.ylabel('Accuracy')\n",
    "plt.legend()\n",
    "plt.title('Accuracy over epochs')\n",
    "plt.show()"
   ]
  },
  {
   "cell_type": "code",
   "execution_count": 14,
   "metadata": {},
   "outputs": [
    {
     "data": {
      "image/png": "[encoded data removed]",
      "text/plain": [
       "<Figure size 640x480 with 2 Axes>"
      ]
     },
     "metadata": {},
     "output_type": "display_data"
    }
   ],
   "source": [
    "plt.rcParams.update({'font.size': 14})\n",
    "\n",
    "y_pred_probs = model_QPKD.predict(x_test)\n",
    "y_pred = np.argmax(y_pred_probs, axis=1)\n",
    "\n",
    "# Since y_test is one-hot encoded, you need to convert it back to class indices\n",
    "y_true = np.argmax(y_test_binary, axis=1)  # Convert one-hot encoded labels to class indices\n",
    "\n",
    "\n",
    "cm = confusion_matrix(y_true, y_pred)\n",
    "disp = ConfusionMatrixDisplay(confusion_matrix=cm)\n",
    "disp.plot(cmap='Purples')\n",
    "plt.show()\n"
   ]
  },
  {
   "cell_type": "code",
   "execution_count": 15,
   "metadata": {},
   "outputs": [],
   "source": [
    "model_KD = strip_pruning(model_QPKD)\n",
    "model_KD.save(\"models/mnistPQKD.h5\")"
   ]
  },
  {
   "cell_type": "markdown",
   "metadata": {},
   "source": [
    "### Plot signal for inference @FPGA"
   ]
  },
  {
   "cell_type": "code",
   "execution_count": 7,
   "metadata": {},
   "outputs": [
    {
     "data": {
      "image/png": "[encoded data removed]",
      "text/plain": [
       "<Figure size 640x480 with 2 Axes>"
      ]
     },
     "metadata": {},
     "output_type": "display_data"
    }
   ],
   "source": [
    "signal = [\n",
    "\n",
    "    \t0,0,0,0,0,0,0,0,0,0,0,0,0,0,0,0,0,0,0,0,0,0,0,0,0,0,0,0,0,0,0,0,0,0,0,0,0,0,0,0,0,0,0,0,0,0,0,0,0,0,0,0,0,0,0,0,0,0,0,0,0,0,0,0,0,0,0,0,0,0,0,0,0,0,0,0,0,0,0,0,0,0,0,0,0,0,0,0,0,0,0,0,0,0,0,0,0,0,0,0,0,0,0,0,0,0,0,0,0,0,0,0,0,0,0,0,0,0,0,0,0,0,0,0,0,0,7,170,119,0,0,0,0,0,0,0,0,0,0,0,0,0,0,0,0,0,0,0,0,0,0,0,0,0,125,253,101,0,0,0,0,0,0,0,0,0,0,0,0,0,0,0,0,0,0,0,0,0,0,0,0,0,207,253,93,0,0,0,0,0,0,0,0,0,0,0,0,0,0,0,0,0,0,0,0,0,0,0,0,0,207,253,93,0,0,0,0,0,0,0,0,0,0,0,0,0,0,0,0,0,0,0,0,0,0,0,0,0,208,254,93,0,0,0,0,0,0,0,0,0,0,0,0,0,0,0,0,0,0,0,0,0,0,0,0,0,207,253,93,0,0,0,0,0,0,0,0,0,0,0,0,0,0,0,0,0,0,0,0,0,0,0,0,0,207,253,93,0,0,0,0,0,0,0,0,0,0,0,0,0,0,0,0,0,0,0,0,0,0,0,0,17,224,253,93,0,0,0,0,0,0,0,0,0,0,0,0,0,0,0,0,0,0,0,0,0,0,0,0,47,254,254,93,0,0,0,0,0,0,0,0,0,0,0,0,0,0,0,0,0,0,0,0,0,0,0,0,64,253,253,9,0,0,0,0,0,0,0,0,0,0,0,0,0,0,0,0,0,0,0,0,0,0,0,0,147,253,177,0,0,0,0,0,0,0,0,0,0,0,0,0,0,0,0,0,0,0,0,0,0,0,0,0,230,253,94,0,0,0,0,0,0,0,0,0,0,0,0,0,0,0,0,0,0,0,0,0,0,0,0,45,245,254,69,0,0,0,0,0,0,0,0,0,0,0,0,0,0,0,0,0,0,0,0,0,0,0,0,170,253,232,6,0,0,0,0,0,0,0,0,0,0,0,0,0,0,0,0,0,0,0,0,0,0,0,0,254,253,145,0,0,0,0,0,0,0,0,0,0,0,0,0,0,0,0,0,0,0,0,0,0,0,0,34,254,253,46,0,0,0,0,0,0,0,0,0,0,0,0,0,0,0,0,0,0,0,0,0,0,0,0,119,255,241,34,0,0,0,0,0,0,0,0,0,0,0,0,0,0,0,0,0,0,0,0,0,0,0,0,184,254,215,9,0,0,0,0,0,0,0,0,0,0,0,0,0,0,0,0,0,0,0,0,0,0,0,0,142,254,253,46,0,0,0,0,0,0,0,0,0,0,0,0,0,0,0,0,0,0,0,0,0,0,0,0,25,254,168,29,0,0,0,0,0,0,0,0,0,0,0,0,0,0,0,0,0,0,0,0,0,0,0,0,0,0,0,0,0,0,0,0,0,0,0,0,0,0,0,0,0,0,0,0,0,0,0,0,0,0,0,0,0,0,0,0,0,0,0,0,0,0,0,0,0,0,0,0,0,0,0,0,0,0,0,0,0,0,0,0,0,0,0,0,0,0,0,0,0,0,0,0,0,0,0,0,0,0,0,0,0,0,0,0,0,0,0,0,0,0,0,0,0,0,0,0,0,0,0,0,0,0,0,0,0\n",
    "\n",
    "    ]\n",
    "\n",
    "imageArray = np.array(signal)\n",
    "image_2d = imageArray.reshape((28, 28))\n",
    "# Display as an image\n",
    "plt.imshow(image_2d, cmap='gray', interpolation='nearest')\n",
    "plt.colorbar()  # Optional: Show color scale\n",
    "plt.show()"
   ]
  },
  {
   "cell_type": "markdown",
   "metadata": {},
   "source": [
    "---\n",
    "#### Valencia, Spain - 2025\n",
    "\n",
    "Romina Soledad Molina, Ph.D. - MLab/STI ICTP, Trieste, Italy"
   ]
  }
 ],
 "metadata": {
  "kernelspec": {
   "display_name": "neuralEnv",
   "language": "python",
   "name": "python3"
  },
  "language_info": {
   "codemirror_mode": {
    "name": "ipython",
    "version": 3
   },
   "file_extension": ".py",
   "mimetype": "text/x-python",
   "name": "python",
   "nbconvert_exporter": "python",
   "pygments_lexer": "ipython3",
   "version": "3.9.13"
  }
 },
 "nbformat": 4,
 "nbformat_minor": 2
}
